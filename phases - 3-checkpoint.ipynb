{
 "cells": [
  {
   "cell_type": "code",
   "execution_count": null,
   "id": "15f269cb",
   "metadata": {},
   "outputs": [],
   "source": [
    "CREATE TABLE WomenCrimes (\n",
    "    STATE_UT TEXT,\n",
    "    DISTRICT TEXT,\n",
    "    Year INT,\n",
    "    Rape INT,\n",
    "    Kidnapping_Abduction INT,\n",
    "    Dowry_Deaths INT,\n",
    "    Assault_on_women_with_intent_to_outrage_her_modesty INT,\n",
    "    Insult_to_modesty_of_Women INT,\n",
    "    Cruelty_by_Husband_or_his_Relatives INT,\n",
    "    Importation_of_Girls_from_Foreign_Countries INT,\n",
    "    Immoral_Traffic_(P)Act INT\n",
    ");\n",
    "\n",
    "COPY WomenCrimes FROM '/path/to/42_District_wise_crimes_committed_against_women_2001_2012.csv' DELIMITER ',' CSV HEADER;\n"
   ]
  },
  {
   "cell_type": "code",
   "execution_count": null,
   "id": "653b43fa",
   "metadata": {},
   "outputs": [],
   "source": [
    "3.2"
   ]
  },
  {
   "cell_type": "code",
   "execution_count": null,
   "id": "0ae958b9",
   "metadata": {},
   "outputs": [],
   "source": [
    "SELECT STATE_UT, DISTRICT, Year, \n",
    "       MAX(Rape) AS Highest_Rapes, \n",
    "       MAX(Kidnapping_Abduction) AS Highest_Kidnappings\n",
    "FROM WomenCrimes\n",
    "GROUP BY STATE_UT, DISTRICT, Year;\n"
   ]
  },
  {
   "cell_type": "code",
   "execution_count": null,
   "id": "72a6f6c4",
   "metadata": {},
   "outputs": [],
   "source": [
    "3.3"
   ]
  },
  {
   "cell_type": "code",
   "execution_count": null,
   "id": "edffbd09",
   "metadata": {},
   "outputs": [],
   "source": [
    "SELECT STATE_UT, DISTRICT, Year, \n",
    "       MIN(Rape) AS Lowest_Rapes, \n",
    "       MIN(Kidnapping_Abduction) AS Lowest_Kidnappings\n",
    "FROM WomenCrimes\n",
    "GROUP BY STATE_UT, DISTRICT, Year;\n"
   ]
  },
  {
   "cell_type": "code",
   "execution_count": null,
   "id": "22100bd0",
   "metadata": {},
   "outputs": [],
   "source": [
    "3.4"
   ]
  },
  {
   "cell_type": "code",
   "execution_count": null,
   "id": "a8b7b3aa",
   "metadata": {},
   "outputs": [],
   "source": [
    "CREATE TABLE CrimesAgainstST (\n",
    "    STATE_UT TEXT,\n",
    "    DISTRICT TEXT,\n",
    "    Year INT,\n",
    "    Murder INT,\n",
    "    Attempt_to_Murder INT,\n",
    "    Rape INT\n",
    ");\n",
    "\n",
    "COPY CrimesAgainstST FROM '/path/to/02_District_wise_crimes_committed_against_ST_2001_2012.csv' DELIMITER ',' CSV HEADER;\n"
   ]
  },
  {
   "cell_type": "code",
   "execution_count": null,
   "id": "55e331e4",
   "metadata": {},
   "outputs": [],
   "source": [
    "3.5"
   ]
  },
  {
   "cell_type": "code",
   "execution_count": null,
   "id": "3ab7c280",
   "metadata": {},
   "outputs": [],
   "source": [
    "SELECT DISTRICT, MAX(Dacoity_Robbery) AS Highest_Dacoity_Robbery\n",
    "FROM CrimesAgainstST\n",
    "GROUP BY DISTRICT;\n"
   ]
  },
  {
   "cell_type": "code",
   "execution_count": null,
   "id": "8b1a72e5",
   "metadata": {},
   "outputs": [],
   "source": [
    "3.6"
   ]
  },
  {
   "cell_type": "code",
   "execution_count": null,
   "id": "1c081279",
   "metadata": {},
   "outputs": [],
   "source": [
    "SELECT DISTRICT, MIN(Murder) AS Lowest_Murder\n",
    "FROM CrimesAgainstST\n",
    "GROUP BY DISTRICT;\n"
   ]
  },
  {
   "cell_type": "code",
   "execution_count": null,
   "id": "3a441868",
   "metadata": {},
   "outputs": [],
   "source": [
    "3.7"
   ]
  },
  {
   "cell_type": "code",
   "execution_count": null,
   "id": "bbe05457",
   "metadata": {},
   "outputs": [],
   "source": [
    "SELECT STATE_UT, DISTRICT, Year, Murder\n",
    "FROM CrimesAgainstST\n",
    "ORDER BY DISTRICT, Year, Murder ASC;\n"
   ]
  },
  {
   "cell_type": "code",
   "execution_count": null,
   "id": "04c61764",
   "metadata": {},
   "outputs": [],
   "source": [
    "3.8.1"
   ]
  },
  {
   "cell_type": "code",
   "execution_count": null,
   "id": "37f268ec",
   "metadata": {},
   "outputs": [],
   "source": [
    "CREATE TABLE IPCCrimes (\n",
    "    STATE_UT TEXT,\n",
    "    DISTRICT TEXT,\n",
    "    Year INT,\n",
    "    Murder INT,\n",
    "    Attempt_to_Murder INT,\n",
    "    Rape INT\n",
    ");\n",
    "\n",
    "COPY IPCCrimes FROM '/path/to/01_District_wise_crimes_committed_IPC_2001_2012.csv' DELIMITER ',' CSV HEADER;\n"
   ]
  },
  {
   "cell_type": "code",
   "execution_count": null,
   "id": "42abeca5",
   "metadata": {},
   "outputs": [],
   "source": [
    "3.8.2"
   ]
  },
  {
   "cell_type": "code",
   "execution_count": null,
   "id": "32e17d48",
   "metadata": {},
   "outputs": [],
   "source": [
    "WITH RankedMurders AS (\n",
    "    SELECT STATE_UT, DISTRICT, Year, Murder,\n",
    "           ROW_NUMBER() OVER (PARTITION BY STATE_UT, Year ORDER BY Murder DESC) AS rn\n",
    "    FROM IPCCrimes\n",
    ")\n",
    "SELECT STATE_UT, Year, DISTRICT, Murder\n",
    "FROM RankedMurders\n",
    "WHERE rn = 1;\n"
   ]
  },
  {
   "cell_type": "code",
   "execution_count": null,
   "id": "7576a85b",
   "metadata": {},
   "outputs": [],
   "source": [
    "3.8.3"
   ]
  },
  {
   "cell_type": "code",
   "execution_count": null,
   "id": "77f32996",
   "metadata": {},
   "outputs": [],
   "source": [
    "import pandas as pd\n",
    "import psycopg2\n",
    "\n",
    "\n",
    "conn = psycopg2.connect(database=\"your_database\", user=\"your_user\", password=\"your_password\", host=\"your_host\", port=\"your_port\")\n",
    "cursor = conn.cursor()\n",
    "\n",
    "cursor.execute(\"\"\"\n",
    "    WITH RankedMurders AS (\n",
    "        SELECT STATE_UT, DISTRICT, Year, Murder,\n",
    "               ROW_NUMBER() OVER (PARTITION BY STATE_UT, Year ORDER BY Murder DESC) AS rn\n",
    "        FROM IPCCrimes\n",
    "    )\n",
    "    SELECT STATE_UT, Year, DISTRICT, Murder\n",
    "    FROM RankedMurders\n",
    "    WHERE rn = 1\n",
    "\"\"\")\n",
    "result = cursor.fetchall()\n",
    "\n",
    "df = pd.DataFrame(result, columns=['STATE_UT', 'Year', 'DISTRICT', 'Murders'])\n",
    "\n",
    "districts_appearing_3_or_more_years = df['DISTRICT'].value_counts()[df['DISTRICT'].value_counts() >= 3]\n",
    "\n",
    "result_df = df[df['DISTRICT'].isin(districts_appearing_3_or_more_years.index)].sort_values(by=['Murders', 'Year'], ascending=[False, False])\n",
    "print(result_df)\n"
   ]
  },
  {
   "cell_type": "code",
   "execution_count": null,
   "id": "2cfa3eaa",
   "metadata": {},
   "outputs": [],
   "source": [
    "import matplotlib.pyplot as plt\n",
    "import seaborn as sns\n",
    "\n",
    "plt.figure(figsize=(12, 8))\n",
    "sns.barplot(x='Murders', y='DISTRICT', hue='STATE_UT', data=result_df)\n",
    "plt.title('Districts with Highest Murders in Each State/UT (Appearing 3 or More Years)')\n",
    "plt.xlabel('Murders')\n",
    "plt.ylabel('District')\n",
    "plt.show()\n"
   ]
  }
 ],
 "metadata": {
  "kernelspec": {
   "display_name": "Python 3 (ipykernel)",
   "language": "python",
   "name": "python3"
  },
  "language_info": {
   "codemirror_mode": {
    "name": "ipython",
    "version": 3
   },
   "file_extension": ".py",
   "mimetype": "text/x-python",
   "name": "python",
   "nbconvert_exporter": "python",
   "pygments_lexer": "ipython3",
   "version": "3.10.9"
  }
 },
 "nbformat": 4,
 "nbformat_minor": 5
}

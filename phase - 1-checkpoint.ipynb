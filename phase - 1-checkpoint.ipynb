{
 "cells": [
  {
   "cell_type": "code",
   "execution_count": null,
   "id": "b40295f2",
   "metadata": {},
   "outputs": [],
   "source": [
    "import pandas as pd \n",
    "import numpy as np\n"
   ]
  },
  {
   "cell_type": "code",
   "execution_count": null,
   "id": "23c3ce95",
   "metadata": {},
   "outputs": [],
   "source": [
    "url_population = 'https://en.wikipedia.org/wiki/List_of_states_and_union_territories_of_India_by_population'\n",
    "population_data = pd.read_html(url_population, header=0)[0]\n",
    "\n",
    "\n",
    "population_df = population_data[['State or union territory', 'Population[2]']]\n",
    "\n",
    "\n",
    "population_df.columns = ['State', 'Population']\n",
    "\n",
    "\n",
    "population_df['Population'] = pd.to_numeric(population_df['Population'].str.replace(',', ''), errors='coerce')\n",
    "\n",
    "\n",
    "population_df"
   ]
  },
  {
   "cell_type": "code",
   "execution_count": null,
   "id": "a20eb62b",
   "metadata": {},
   "outputs": [],
   "source": [
    "\n",
    "url_literacy = 'https://en.wikipedia.org/wiki/List_of_states_and_union_territories_of_India_by_literacy_rate'\n",
    "literacy_data = pd.read_html(url_literacy, header=0)[0]\n",
    "\n",
    "\n",
    "literacy_df = literacy_data[['State or union territory', 'Literacy Rate (%)']]\n",
    "\n",
    "\n",
    "literacy_df.columns = ['State', 'Literacy Rate']\n",
    "\n",
    "\n",
    "literacy_df['Literacy Rate'] = pd.to_numeric(literacy_df['Literacy Rate'].str.replace('%', ''), errors='coerce')\n",
    "\n",
    "\n",
    "literacy_df\n"
   ]
  },
  {
   "cell_type": "code",
   "execution_count": null,
   "id": "4a3a3761",
   "metadata": {},
   "outputs": [],
   "source": [
    "url_area = 'https://en.wikipedia.org/wiki/List_of_states_and_union_territories_of_India_by_area'\n",
    "area_data = pd.read_html(url_area, header=0)[0]\n",
    "\n",
    "\n",
    "area_df = area_data[['State or union territory', 'Area (km²)']]\n",
    "\n",
    "\n",
    "area_df.columns = ['State', 'Area']\n",
    "\n",
    "area_df['Area'] = pd.to_numeric(area_df['Area'].str.replace(',', ''), errors='coerce')\n",
    "\n",
    "area_df\n"
   ]
  },
  {
   "cell_type": "code",
   "execution_count": null,
   "id": "b6f528ea",
   "metadata": {},
   "outputs": [],
   "source": [
    "url_gdp = 'https://example.com/gdp_data'\n",
    "gdp_data = pd.read_html(url_gdp, header=0)[0]\n",
    "\n",
    "\n",
    "gdp_df = gdp_data[['State', 'GDP']]\n",
    "\n",
    "gdp_df\n"
   ]
  },
  {
   "cell_type": "code",
   "execution_count": null,
   "id": "cdcdc55f",
   "metadata": {},
   "outputs": [],
   "source": [
    "final_data = pd.merge(population_df, literacy_df, on='State')\n",
    "final_data = pd.merge(final_data, area_df, on='State')\n",
    "final_data = pd.merge(final_data, gdp_df, on='State')  \n",
    "\n",
    "\n",
    "final_data.to_csv('state_data.csv', index=False)\n"
   ]
  },
  {
   "cell_type": "code",
   "execution_count": null,
   "id": "c11627d0",
   "metadata": {},
   "outputs": [],
   "source": []
  },
  {
   "cell_type": "code",
   "execution_count": null,
   "id": "630e41ad",
   "metadata": {},
   "outputs": [],
   "source": []
  },
  {
   "cell_type": "code",
   "execution_count": null,
   "id": "ab8793b1",
   "metadata": {},
   "outputs": [],
   "source": []
  }
 ],
 "metadata": {
  "kernelspec": {
   "display_name": "Python 3 (ipykernel)",
   "language": "python",
   "name": "python3"
  },
  "language_info": {
   "codemirror_mode": {
    "name": "ipython",
    "version": 3
   },
   "file_extension": ".py",
   "mimetype": "text/x-python",
   "name": "python",
   "nbconvert_exporter": "python",
   "pygments_lexer": "ipython3",
   "version": "3.10.9"
  }
 },
 "nbformat": 4,
 "nbformat_minor": 5
}

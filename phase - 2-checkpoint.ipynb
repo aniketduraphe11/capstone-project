{
 "cells": [
  {
   "cell_type": "code",
   "execution_count": null,
   "id": "3906e2ae",
   "metadata": {},
   "outputs": [],
   "source": [
    "import pandas as pd\n",
    "\n",
    "crime_data = pd.read_csv(\"path_to_crime_data.csv\")  \n",
    "\n",
    "merged_data = pd.merge(crime_data, final_data, left_on='State/UT', right_on='State')\n"
   ]
  },
  {
   "cell_type": "code",
   "execution_count": null,
   "id": "aab1f487",
   "metadata": {},
   "outputs": [],
   "source": [
    "import matplotlib.pyplot as plt\n",
    "import seaborn as sns\n",
    "\n",
    "plt.figure(figsize=(12, 6))\n",
    "sns.scatterplot(x='Literacy Rate', y='Total Crimes', data=merged_data, hue='State/UT', palette='viridis')\n",
    "plt.title('Analysis of Literacy Rate vs Total Crimes')\n",
    "plt.xlabel('Literacy Rate')\n",
    "plt.ylabel('Total Crimes')\n",
    "plt.show()\n"
   ]
  },
  {
   "cell_type": "code",
   "execution_count": null,
   "id": "555f0323",
   "metadata": {},
   "outputs": [],
   "source": [
    "plt.figure(figsize=(16, 8))\n",
    "sns.barplot(x='State/UT', y='Total Crimes', hue='Type of Crime', data=merged_data)\n",
    "plt.title('Analysis of Type of Crime vs Each State vs Literacy Rate')\n",
    "plt.xlabel('State/UT')\n",
    "plt.ylabel('Total Crimes')\n",
    "plt.xticks(rotation=45, ha='right')\n",
    "plt.legend(title='Type of Crime', bbox_to_anchor=(1.05, 1), loc='upper left')\n",
    "plt.show()\n"
   ]
  },
  {
   "cell_type": "code",
   "execution_count": null,
   "id": "200229de",
   "metadata": {},
   "outputs": [],
   "source": [
    "plt.figure(figsize=(12, 6))\n",
    "sns.lineplot(x='Year', y='Total Crimes', data=merged_data, hue='State/UT', marker='o')\n",
    "plt.title('Analysis of Year-on-Year Total Crime Rate')\n",
    "plt.xlabel('Year')\n",
    "plt.ylabel('Total Crimes')\n",
    "plt.legend(bbox_to_anchor=(1.05, 1), loc='upper left')\n",
    "plt.show()\n"
   ]
  },
  {
   "cell_type": "code",
   "execution_count": null,
   "id": "59c1127a",
   "metadata": {},
   "outputs": [],
   "source": [
    "plt.figure(figsize=(12, 6))\n",
    "sns.scatterplot(x='Area', y='Total Crimes', data=merged_data, hue='State/UT', palette='viridis')\n",
    "plt.title('Analysis of Area vs Overall Crime')\n",
    "plt.xlabel('Area (km²)')\n",
    "plt.ylabel('Total Crimes')\n",
    "plt.show()\n"
   ]
  },
  {
   "cell_type": "code",
   "execution_count": null,
   "id": "1e1d01c9",
   "metadata": {},
   "outputs": [],
   "source": [
    "plt.figure(figsize=(12, 6))\n",
    "sns.scatterplot(x='Population', y='Total Crimes', data=merged_data, hue='State/UT', palette='viridis')\n",
    "plt.title('Analysis of Population vs Overall Crime')\n",
    "plt.xlabel('Population')\n",
    "plt.ylabel('Total Crimes')\n",
    "plt.show()\n"
   ]
  },
  {
   "cell_type": "code",
   "execution_count": null,
   "id": "bae2e257",
   "metadata": {},
   "outputs": [],
   "source": [
    "state_crime_report = merged_data.groupby('State/UT')['Total Crimes'].describe()\n",
    "\n",
    "\n",
    "state_crime_report\n"
   ]
  }
 ],
 "metadata": {
  "kernelspec": {
   "display_name": "Python 3 (ipykernel)",
   "language": "python",
   "name": "python3"
  },
  "language_info": {
   "codemirror_mode": {
    "name": "ipython",
    "version": 3
   },
   "file_extension": ".py",
   "mimetype": "text/x-python",
   "name": "python",
   "nbconvert_exporter": "python",
   "pygments_lexer": "ipython3",
   "version": "3.10.9"
  }
 },
 "nbformat": 4,
 "nbformat_minor": 5
}
